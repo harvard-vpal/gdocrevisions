{
 "cells": [
  {
   "cell_type": "markdown",
   "metadata": {},
   "source": [
    "Install ipython notebook widgets:\n",
    "\n",
    "https://ipywidgets.readthedocs.io/en/latest/user_install.html"
   ]
  },
  {
   "cell_type": "code",
   "execution_count": 1,
   "metadata": {
    "collapsed": true
   },
   "outputs": [],
   "source": [
    "import sys\n",
    "sys.path.append('..')"
   ]
  },
  {
   "cell_type": "code",
   "execution_count": 2,
   "metadata": {
    "collapsed": false
   },
   "outputs": [],
   "source": [
    "import gdoc_revisions\n",
    "from oauth2client.service_account import ServiceAccountCredentials\n",
    "import ipywidgets as widgets\n",
    "from IPython.display import display, clear_output\n",
    "\n",
    "CREDENTIAL_FILE = '../settings/doc-revisions-98c56004e106.json'\n",
    "scope = ['https://www.googleapis.com/auth/drive']\n",
    "credentials = ServiceAccountCredentials.from_json_keyfile_name(CREDENTIAL_FILE, scope)\n",
    "FILE_ID = '1aSAA-ZA8bGvJSpgFhVgJu89EDMPMRm5IrcdeV85JmJE'\n"
   ]
  },
  {
   "cell_type": "code",
   "execution_count": 3,
   "metadata": {
    "collapsed": false,
    "scrolled": true
   },
   "outputs": [],
   "source": [
    "gdoc = gdoc_revisions.GoogleDoc(FILE_ID, credentials)\n",
    "\n",
    "slider = widgets.IntSlider(min=1, max=len(gdoc.revisions))\n",
    "\n",
    "def update_document_snapshot(revision_id_change):\n",
    "    clear_output(wait=True)\n",
    "    revision_id = revision_id_change['new']\n",
    "    print gdoc.at_revision(revision_id).render()\n",
    "\n",
    "slider.observe(update_document_snapshot, names='value')"
   ]
  },
  {
   "cell_type": "code",
   "execution_count": 4,
   "metadata": {
    "collapsed": false,
    "scrolled": false
   },
   "outputs": [
    {
     "name": "stdout",
     "output_type": "stream",
     "text": [
      "Revision History Analytics in Service of Analyzing the Writing Process\n",
      "Daniel Seaton, Selen Turkay, Andrew Ang - VPAL Research\n",
      "\n",
      "Overview: Writing is a fundamental part of student development and university assessment, yet little actionable data is collected that provides students and instructors insight into the process of writing. This is particularly concerning when research indicates that self-regulation is critical to successful writing. Computer-aided writing research has a history of providing insight into the writing process# and access to data through word processing platforms is becoming easier. Google’s Cloud Platform and the Google Docs API allow for the extraction of highly-detailed revision histories with a given document; so fine grained that one can literally replay the writing process letter-for-letter#. Our ability to access such granular information means we can mine deeper into the process of writing and discover strategies that support effective writing. \n",
      "\n",
      "Our primary interests are studying the temporal nature of revision patterns and how those relate to specific passages within a written text. Such patterns can be used to identify writing strategies that would benefit from computer-aided interventions, e.g., automatically asking a student to pause and reflect on the theme of a paragraph. We propose a set of experiments aimed at prototyping infrastructure for tracking letter-to-letter revision history of writers on Mechanical Turk. These results would serve as a baseline for analytics applications that would eventually be used by students and instructors at Harvard. \n",
      "\n",
      "Motivation and Background Research: The general sentiment in research points to a broad need for improving writing instruction#. Effective communication through writing is fundamental to students’ ability to succeed both during college and after graduation. Peterson-Karlan & Parette overview a number of papers describing how writing proficiency in predicting academic success, develops critical-thinking skills, and is of great importance after formal education in professional and personal settings. \n",
      "\n",
      "Final draft vs continuous feedback\n",
      "At the university level, most grading addresses a final draft. Some courses incorporate regular draft reviews by instructors or peers, but with the editing process is left completely to the student which requires constant monitoring. This makes self-regulation a key to successful writing. \n",
      "“Studies show that students who abide by editing strategies [such as…] score significantly higher on graded writing. These studies also recognize that the lack of instructional emphasis on strategy creates a divide between experts and novices in that novices do not know how to effectively incorporate draft feedback effectively”. \n",
      "\n",
      "Technology for Studying Writing: Researchers have used a wide variety of computational approaches over the last few decades to study writing#, many of which make use of keystroke logging. Some researchers go as far as to create virtual environments that not only track keystrokes within a word processor, but overall habits while working from a computer. Such collection requires special attention with regard to privacy and potentially invasive research. \n",
      "\n",
      "We find the use of Google’s Cloud Platform# as a balance between potentially invasive keystroke logging applications and optimizing data collection during writing. Since revision histories are only accessible by document owners and collaborators, the share feature gives an owner complete control of his or her data. At the same time, applications can be created that streamline the assignment of a particularly document to a user for completing an assignment. Such an application would allow for a disclaimer stating our desire to study the writing process and ask for informed consent.\n",
      "\n",
      "Infrastructure for Experimental Studies of Writing: We propose a simple set of experiments designed to a) prototype infrastructure for tracking revision histories across Google Docs, 2) running experiments to analyze the writing process in several conditions, and 3) build analytics tools that support writers and instructors on the habits that lead to effective writing.\n",
      "\n",
      "We specifically propose two experiments using Mechanical Turk:\n",
      "Assigning Google Docs to users for essay writing and revision of existing essays. \n",
      "We will take writing prompts from standardized testing and grade responses according to available rubrics (e.g., GRE 30-min Analytical Writing Measures#) .\n",
      "We will parse revision histories in order to detect temporal and contextual patterns.\n",
      "Selen - We will ask users to use DraftBack to replay written essays and go through revisions. Our research questions are: 1) How does watching an expert’s writing process impact students’ own writing compared to watching their own writing process? 2) How does watching an expert’s writing affect students’ revising?\n",
      "Using collected essays from experiment one - or through expert contributions - we will ask users to revise essays after using the DraftBack tool. We will control this group by asking the same of users but not using DraftBack. Our goal is to understand how illuminating the writing process can affect revision strategies.\n",
      "In a follow-up 2x2 factorial design MTurk study, we will randomly assign participants in one of the four conditions where they will either watch their own revision or expert revision. \n",
      "We will also ud\n",
      "\n",
      "Why should HILT fund this proposal? Illuminating the writing process through revision history analytics would provide an innovative tool for instructors and students to better understand writing strategies. As a centrally-administered group, our focus is largely around analyzing existing technologies implemented at Harvard. We view this Spark Grant as helping justify our time on pursuing unique opportunity to implement technology for use at Harvard.    \n",
      "\n",
      "We postulate that the ease of access to revision history will quickly spur future studies. This Spark Grant would provide our team the opportunity to be at the forefront of such research. Several organizations are already paving the way in scaling instructor feedback on final drafts (e.g., WriteLab#, iWrite#) and will likely turn their efforts toward revision.\n",
      "\n",
      "Why isn’t this something that central administration already pays for?\n",
      "Competing interests\n",
      "Merging revision history technology with current teaching would innovative\n",
      "VPAL’s primary role has been analyzing existing implementations of technology. Spark grant would allow team members push forward with innovative technology.\n",
      "\n",
      "Implications for Harvard\n",
      "Cheating would largely be eliminated when applications capable of tracking revisions are incorporated into instruction and grading.\n",
      "Would provide instructors the ability to engage in richer conversations around behavior and self-regulation.\n",
      "\n",
      "\n",
      "\n",
      "Budget\n",
      "Mechanical Turk: $3000\n",
      "Supplementary Budget for Contracted Software Development: $5000  (50 hrs * $100 per hr)\n",
      "\n",
      "\n",
      "\n",
      "Appendix: We are currently able to naively pull revision histories\n",
      "\n",
      "\n",
      "\n",
      "\n",
      "\n",
      "Graveyard-\n",
      "\n",
      "Good Quotes and Motivation\n",
      "The time to begin writing an article is when you have finished it to your satisfaction. By that time you begin to clearly and logically perceive what it is that you really want to say.\n",
      "-- Mark Twain\n",
      "\n",
      "Twain’s advice resonates with anyone who has struggled with a final draft, while highlighting his expertise in understanding writing as a process.\n",
      "\n",
      "Michaelangelo\n",
      "If we believe that writing is art, then our approach to training writers would likely change from lecture-based models to apprenticeships. Great artists do not learn to paint by listening to great artists describe their work, nor by simply viewing completed great works. Such activities may contribute to an artist’s breadth, but their craft is generally honed through apprenticeships and practice with routine feedback. \n",
      "\n",
      "\n",
      "\n",
      "ACTORS:\n",
      "Writing Strategies (SRSD for example)\n",
      "SRSD is one such writing strategy that permeates K-12 writing instruction, but has seen little exploration in higher education. \n",
      "What about the “plan, monitor, evaluate, revise, and manage” flow. \n",
      "Describe how to build detectors for one or two of these steps.\n",
      "http://fisherb.people.cofc.edu/methods/Writing%20Strategies.pdf\n",
      "\n",
      "Technology Innovation (bringing together disjoint parts)\n",
      "Several studies have employed virtual machines (and browser extensions) in order to study the writing process. \n",
      "List two studies.\n",
      "However, privacy and sustainability are two huge concerns.\n",
      "Revision-Level Learning Analytics\n",
      "Building detectors that intervene during process.\n",
      "Experiment\n",
      "\n",
      "\n",
      "\n",
      "\n",
      "\u0003 \n",
      "https://draftback.com/\u0003\u0003 http://revistas.um.es/ijes/article/view/49081\n",
      "\u0003 http://www.cited.org/library/resourcedocs/TechnologyToSupportWritingSummary.pdf\n",
      "\u0003 http://revistas.um.es/ijes/article/view/49081\n",
      "\u0003 https://cloud.google.com/\n",
      "\u0003 http://home.writelab.com/\n",
      "\u0003 http://iwrite.sydney.edu.au/iwrite.html\n",
      "\u0003 https://www.ets.org/gre/revised_general/prepare/analytical_writing/\n",
      "\n"
     ]
    }
   ],
   "source": [
    "display(slider)"
   ]
  },
  {
   "cell_type": "markdown",
   "metadata": {},
   "source": [
    "\n",
    "\n",
    "\n",
    "\n",
    "\n",
    "\n",
    "\n",
    "\n",
    "\n",
    "\n",
    "\n",
    "\n",
    "\n",
    "\n",
    "\n",
    "\n",
    "\n",
    "\n",
    "\n",
    "\n",
    "\n",
    "\n",
    "\n",
    "\n",
    "\n",
    "\n",
    "\n",
    "\n",
    "\n",
    "\n",
    "\n",
    "\n",
    "\n",
    "\n",
    "\n",
    "\n",
    "\n",
    "\n",
    "\n",
    "\n",
    "\n",
    "\n",
    "\n",
    "\n",
    "\n",
    "\n",
    "\n",
    "\n",
    "\n",
    "\n",
    "\n",
    "\n",
    "\n"
   ]
  },
  {
   "cell_type": "markdown",
   "metadata": {},
   "source": [
    "\n",
    "\n",
    "\n",
    "\n",
    "\n",
    "\n",
    "\n",
    "\n",
    "\n",
    "\n",
    "\n",
    "\n",
    "\n",
    "\n",
    "\n",
    "\n",
    "\n",
    "\n",
    "\n",
    "\n",
    "\n",
    "\n",
    "\n",
    "\n",
    "\n",
    "\n",
    "\n",
    "\n",
    "\n",
    "\n",
    "\n",
    "\n",
    "\n",
    "\n",
    "\n",
    "\n"
   ]
  }
 ],
 "metadata": {
  "kernelspec": {
   "display_name": "Python 2",
   "language": "python",
   "name": "python2"
  },
  "language_info": {
   "codemirror_mode": {
    "name": "ipython",
    "version": 2
   },
   "file_extension": ".py",
   "mimetype": "text/x-python",
   "name": "python",
   "nbconvert_exporter": "python",
   "pygments_lexer": "ipython2",
   "version": "2.7.12"
  },
  "widgets": {
   "state": {
    "33c399368c844470b6de7d4eef42a287": {
     "views": [
      {
       "cell_index": 4
      }
     ]
    }
   },
   "version": "1.2.0"
  }
 },
 "nbformat": 4,
 "nbformat_minor": 0
}
