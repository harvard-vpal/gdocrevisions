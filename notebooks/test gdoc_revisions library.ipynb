{
 "cells": [
  {
   "cell_type": "code",
   "execution_count": 1,
   "metadata": {
    "collapsed": false
   },
   "outputs": [],
   "source": [
    "import sys\n",
    "sys.path.append('..')\n",
    "\n",
    "from oauth2client.service_account import ServiceAccountCredentials\n",
    "\n",
    "CREDENTIAL_FILE = '../settings/doc-revisions-98c56004e106.json'\n",
    "scope = ['https://www.googleapis.com/auth/drive']\n",
    "credentials = ServiceAccountCredentials.from_json_keyfile_name(CREDENTIAL_FILE, scope)\n",
    "FILE_ID = '1aSAA-ZA8bGvJSpgFhVgJu89EDMPMRm5IrcdeV85JmJE'\n"
   ]
  },
  {
   "cell_type": "code",
   "execution_count": 2,
   "metadata": {
    "collapsed": false,
    "scrolled": true
   },
   "outputs": [],
   "source": [
    "import gdoc_revisions\n",
    "\n",
    "gdoc = gdoc_revisions.GoogleDoc(FILE_ID, credentials)"
   ]
  },
  {
   "cell_type": "code",
   "execution_count": 3,
   "metadata": {
    "collapsed": false
   },
   "outputs": [],
   "source": [
    "gdoc.to_pickle('gdoc.pkl')"
   ]
  },
  {
   "cell_type": "code",
   "execution_count": 4,
   "metadata": {
    "collapsed": false
   },
   "outputs": [],
   "source": [
    "gdoc = gdoc_revisions.read_pickle('gdoc.pkl')"
   ]
  },
  {
   "cell_type": "code",
   "execution_count": 5,
   "metadata": {
    "collapsed": false
   },
   "outputs": [
    {
     "data": {
      "text/plain": [
       "[<gdoc_revisions.revision.Revision at 0x10dc72c10>,\n",
       " <gdoc_revisions.revision.Revision at 0x10dc72a10>,\n",
       " <gdoc_revisions.revision.Revision at 0x10dc728d0>,\n",
       " <gdoc_revisions.revision.Revision at 0x10dc72810>,\n",
       " <gdoc_revisions.revision.Revision at 0x10dc72750>]"
      ]
     },
     "execution_count": 5,
     "metadata": {},
     "output_type": "execute_result"
    }
   ],
   "source": [
    "gdoc.revisions[:5]"
   ]
  },
  {
   "cell_type": "code",
   "execution_count": 6,
   "metadata": {
    "collapsed": false
   },
   "outputs": [
    {
     "data": {
      "text/plain": [
       "<gdoc_revisions.operations.InsertString at 0x10dc72950>"
      ]
     },
     "execution_count": 6,
     "metadata": {},
     "output_type": "execute_result"
    }
   ],
   "source": [
    "gdoc.revisions[1].operation"
   ]
  },
  {
   "cell_type": "code",
   "execution_count": 7,
   "metadata": {
    "collapsed": false
   },
   "outputs": [
    {
     "data": {
      "text/plain": [
       "{u'ibi': 1, u's': u'A', u'ty': u'is'}"
      ]
     },
     "execution_count": 7,
     "metadata": {},
     "output_type": "execute_result"
    }
   ],
   "source": [
    "gdoc.revisions[1].operation.raw"
   ]
  },
  {
   "cell_type": "code",
   "execution_count": 8,
   "metadata": {
    "collapsed": false
   },
   "outputs": [
    {
     "name": "stdout",
     "output_type": "stream",
     "text": [
      "Abstract: Writing is a fundamental part of university assessment, yet little actionable data is collected that could provide students and instructors more effective means of impacting the writing process.\n",
      "\n",
      "Writing is art. If we accept that statement, then our approach to training writers would likely change from lecture to apprenticeship based learning models. Michaelangelo did not learn to paint by listening to great artists describe their work, nor by viewing the great works of former artists before him. Rather, he has a well-documented lineage of apprenticeships with former master artists (find picture of apprenticeship book). \n",
      "\n",
      "Music training\n",
      "\n",
      "The modern education machine simply\n",
      "\n",
      "If writing were less ubiquitous and less important to the needs of our students, none of this would matter. However, communication through writing is fundamental to our students ability to succeed during coursework and after graduation. Hence, it is imperative that we find some balance between impersonal lecture-based writing instruction and impractical apprenticeship models for all university students.\n",
      "\n",
      "\n",
      "\n",
      "\n"
     ]
    }
   ],
   "source": [
    "from datetime import datetime\n",
    "\n",
    "mydate = datetime(2016,7,1)\n",
    "print gdoc.at_time(mydate).render()"
   ]
  },
  {
   "cell_type": "code",
   "execution_count": 10,
   "metadata": {
    "collapsed": false
   },
   "outputs": [
    {
     "name": "stdout",
     "output_type": "stream",
     "text": [
      "Abstract: Writing is a fundamental part of university assessment, yet little actionable data is collected that could provide students and instructors more effective means of impacting the writing process.\n",
      "\n",
      "\n",
      "\n",
      "Writing is art. If we accept that statement, then our approach to training writers would likely change from lecture to apprenticeship based learning models. Michaelangelo did not learn to paint by listening to great artists describe their work, nor by viewing the great works of former artists before him. Rather, he has a well-documented lineage of apprenticeships with former master artists (find picture of apprenticeship book). \n",
      "\n",
      "Music training\n",
      "\n",
      "The modern education machine simply\n",
      "\n",
      "If writing were less ubiquitous and less important to the needs of our students, none of this would matter. However, writing is fundamen\n",
      "\n",
      "\n"
     ]
    }
   ],
   "source": [
    "print gdoc.at_revision(500).render()"
   ]
  }
 ],
 "metadata": {
  "kernelspec": {
   "display_name": "Python 2",
   "language": "python",
   "name": "python2"
  },
  "language_info": {
   "codemirror_mode": {
    "name": "ipython",
    "version": 2
   },
   "file_extension": ".py",
   "mimetype": "text/x-python",
   "name": "python",
   "nbconvert_exporter": "python",
   "pygments_lexer": "ipython2",
   "version": "2.7.12"
  }
 },
 "nbformat": 4,
 "nbformat_minor": 0
}
