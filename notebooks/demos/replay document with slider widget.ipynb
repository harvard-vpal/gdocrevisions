{
 "cells": [
  {
   "cell_type": "markdown",
   "metadata": {},
   "source": [
    "Install ipython notebook widgets:\n",
    "\n",
    "https://ipywidgets.readthedocs.io/en/latest/user_install.html"
   ]
  },
  {
   "cell_type": "code",
   "execution_count": 7,
   "metadata": {
    "collapsed": false
   },
   "outputs": [
    {
     "data": {
      "text/html": [
       "<script>\n",
       "code_show=true; \n",
       "function code_toggle() {\n",
       " if (code_show){\n",
       " $('div.input').hide();\n",
       " } else {\n",
       " $('div.input').show();\n",
       " }\n",
       " code_show = !code_show\n",
       "} \n",
       "$( document ).ready(code_toggle);\n",
       "</script>\n",
       "<form action=\"javascript:code_toggle()\"><input type=\"submit\" value=\"Toggle code\"></form>"
      ],
      "text/plain": [
       "<IPython.core.display.HTML object>"
      ]
     },
     "execution_count": 7,
     "metadata": {},
     "output_type": "execute_result"
    }
   ],
   "source": [
    "from IPython.display import HTML\n",
    "\n",
    "HTML('''<script>\n",
    "code_show=true; \n",
    "function code_toggle() {\n",
    " if (code_show){\n",
    " $('div.input').hide();\n",
    " } else {\n",
    " $('div.input').show();\n",
    " }\n",
    " code_show = !code_show\n",
    "} \n",
    "$( document ).ready(code_toggle);\n",
    "</script>\n",
    "<form action=\"javascript:code_toggle()\"><input type=\"submit\" value=\"Toggle code\"></form>''')"
   ]
  },
  {
   "cell_type": "code",
   "execution_count": 2,
   "metadata": {
    "collapsed": true
   },
   "outputs": [],
   "source": [
    "import sys\n",
    "sys.path.append('..')"
   ]
  },
  {
   "cell_type": "code",
   "execution_count": 15,
   "metadata": {
    "collapsed": false
   },
   "outputs": [],
   "source": [
    "import gdoc_revisions\n",
    "from oauth2client.service_account import ServiceAccountCredentials\n",
    "import ipywidgets as widgets\n",
    "from IPython.display import display, clear_output\n",
    "\n",
    "CREDENTIAL_FILE = '../settings/doc-revisions-98c56004e106.json'\n",
    "scope = ['https://www.googleapis.com/auth/drive']\n",
    "credentials = ServiceAccountCredentials.from_json_keyfile_name(CREDENTIAL_FILE, scope)\n",
    "# FILE_ID = '1aSAA-ZA8bGvJSpgFhVgJu89EDMPMRm5IrcdeV85JmJE'\n",
    "# FILE_ID = '1fiFUuGuUeU6W-JrbNFSfZIwc6U8I0vyyypnS5zNHiZg'\n",
    "FILE_ID = '1OApuxAtRIq4MLqMl175jiL_mIKeCMXA6AqFfgT7m68M'\n",
    "\n",
    "# doc-revisions@appspot.gserviceaccount.com"
   ]
  },
  {
   "cell_type": "code",
   "execution_count": 18,
   "metadata": {
    "collapsed": false,
    "scrolled": true
   },
   "outputs": [],
   "source": [
    "gdoc = gdoc_revisions.GoogleDoc(FILE_ID, credentials)\n",
    "\n",
    "slider = widgets.IntSlider(min=1, max=len(gdoc.revisions))\n",
    "\n",
    "def update_document_snapshot(revision_id_change):\n",
    "    clear_output(wait=True)\n",
    "    revision_id = revision_id_change['new']\n",
    "    print gdoc.at_revision(revision_id).render()\n",
    "\n",
    "slider.observe(update_document_snapshot, names='value')"
   ]
  },
  {
   "cell_type": "code",
   "execution_count": 17,
   "metadata": {
    "collapsed": false
   },
   "outputs": [
    {
     "data": {
      "text/html": [
       "<div>\n",
       "<table border=\"1\" class=\"dataframe\">\n",
       "  <thead>\n",
       "    <tr style=\"text-align: right;\">\n",
       "      <th></th>\n",
       "      <th>revision_id</th>\n",
       "      <th>time</th>\n",
       "      <th>user_id</th>\n",
       "      <th>operation_raw</th>\n",
       "    </tr>\n",
       "  </thead>\n",
       "  <tbody>\n",
       "    <tr>\n",
       "      <th>0</th>\n",
       "      <td>1</td>\n",
       "      <td>2016-12-18 21:08:21.530</td>\n",
       "      <td>15537773617043190792</td>\n",
       "      <td>{u'mts': [{u'ei': 1, u'ty': u'as', u'st': u'pa...</td>\n",
       "    </tr>\n",
       "    <tr>\n",
       "      <th>1</th>\n",
       "      <td>2</td>\n",
       "      <td>2016-12-18 21:09:27.936</td>\n",
       "      <td>15537773617043190792</td>\n",
       "      <td>{u'ty': u'null'}</td>\n",
       "    </tr>\n",
       "    <tr>\n",
       "      <th>2</th>\n",
       "      <td>3</td>\n",
       "      <td>2016-12-18 21:09:55.602</td>\n",
       "      <td>15537773617043190792</td>\n",
       "      <td>{u'ibi': 1, u's': u'Vp', u'ty': u'is'}</td>\n",
       "    </tr>\n",
       "    <tr>\n",
       "      <th>3</th>\n",
       "      <td>4</td>\n",
       "      <td>2016-12-18 21:09:56.300</td>\n",
       "      <td>15537773617043190792</td>\n",
       "      <td>{u'ibi': 3, u's': u'a', u'ty': u'is'}</td>\n",
       "    </tr>\n",
       "    <tr>\n",
       "      <th>4</th>\n",
       "      <td>5</td>\n",
       "      <td>2016-12-18 21:09:58.100</td>\n",
       "      <td>15537773617043190792</td>\n",
       "      <td>{u'ibi': 4, u's': u'l', u'ty': u'is'}</td>\n",
       "    </tr>\n",
       "  </tbody>\n",
       "</table>\n",
       "</div>"
      ],
      "text/plain": [
       "   revision_id                    time               user_id  \\\n",
       "0            1 2016-12-18 21:08:21.530  15537773617043190792   \n",
       "1            2 2016-12-18 21:09:27.936  15537773617043190792   \n",
       "2            3 2016-12-18 21:09:55.602  15537773617043190792   \n",
       "3            4 2016-12-18 21:09:56.300  15537773617043190792   \n",
       "4            5 2016-12-18 21:09:58.100  15537773617043190792   \n",
       "\n",
       "                                       operation_raw  \n",
       "0  {u'mts': [{u'ei': 1, u'ty': u'as', u'st': u'pa...  \n",
       "1                                   {u'ty': u'null'}  \n",
       "2             {u'ibi': 1, u's': u'Vp', u'ty': u'is'}  \n",
       "3              {u'ibi': 3, u's': u'a', u'ty': u'is'}  \n",
       "4              {u'ibi': 4, u's': u'l', u'ty': u'is'}  "
      ]
     },
     "execution_count": 17,
     "metadata": {},
     "output_type": "execute_result"
    }
   ],
   "source": [
    "import pandas as pd\n",
    "\n",
    "# create pandas dataframe of revisions\n",
    "df_revisions = pd.DataFrame([r.to_dict() for r in gdoc.revisions])\n",
    "\n",
    "operations = []\n",
    "for revision in gdoc.revisions:\n",
    "    for operation in revision.operations:\n",
    "        operations.append({\n",
    "            'revision_id':revision.revision_id,\n",
    "            'operation': operation\n",
    "        })\n",
    "df_operations = (\n",
    "    df_revisions[['revision_id','time','user_id']]\n",
    "    .merge(pd.DataFrame(operations))\n",
    ")\n",
    "\n",
    "df_revisions.head()[['revision_id','time','user_id','operation_raw',]]"
   ]
  },
  {
   "cell_type": "code",
   "execution_count": 19,
   "metadata": {
    "collapsed": false,
    "scrolled": false
   },
   "outputs": [
    {
     "name": "stdout",
     "output_type": "stream",
     "text": [
      "\n"
     ]
    }
   ],
   "source": [
    "display(slider)"
   ]
  },
  {
   "cell_type": "markdown",
   "metadata": {},
   "source": [
    "\n",
    "\n",
    "\n",
    "\n",
    "\n",
    "\n",
    "\n",
    "\n",
    "\n",
    "\n",
    "\n",
    "\n",
    "\n",
    "\n",
    "\n",
    "\n",
    "\n",
    "\n",
    "\n",
    "\n",
    "\n",
    "\n",
    "\n",
    "\n",
    "\n",
    "\n",
    "\n",
    "\n",
    "\n",
    "\n",
    "\n",
    "\n",
    "\n",
    "\n",
    "\n",
    "\n",
    "\n",
    "\n"
   ]
  }
 ],
 "metadata": {
  "kernelspec": {
   "display_name": "Python 2",
   "language": "python",
   "name": "python2"
  },
  "language_info": {
   "codemirror_mode": {
    "name": "ipython",
    "version": 2
   },
   "file_extension": ".py",
   "mimetype": "text/x-python",
   "name": "python",
   "nbconvert_exporter": "python",
   "pygments_lexer": "ipython2",
   "version": "2.7.12"
  },
  "widgets": {
   "state": {
    "5f5aad9f30ec4439a553d2bed7229f3c": {
     "views": [
      {
       "cell_index": 6
      }
     ]
    }
   },
   "version": "1.2.0"
  }
 },
 "nbformat": 4,
 "nbformat_minor": 0
}
